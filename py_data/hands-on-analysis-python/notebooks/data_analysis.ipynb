{
 "metadata": {
  "name": "",
  "signature": "sha256:4a256f342378bf3e5eb246bd9ce1247b515830ba6b2c8721ec2a8f844f973a0c"
 },
 "nbformat": 3,
 "nbformat_minor": 0,
 "worksheets": [
  {
   "cells": [
    {
     "cell_type": "markdown",
     "metadata": {},
     "source": [
      "# Lesson: Let's preprocess the data!\n",
      "\n",
      "## File I/O and exploring the data"
     ]
    },
    {
     "cell_type": "code",
     "collapsed": false,
     "input": [
      "import pandas as pd\n",
      "\n",
      "f = '../data/census_data.csv'\n",
      "\n",
      "# read in the file\n",
      "census = pd.read_csv(f)\n",
      "\n",
      "# look at the first 5 lines\n",
      "census[:5]\n"
     ],
     "language": "python",
     "metadata": {},
     "outputs": [
      {
       "html": [
        "<div style=\"max-height:1000px;max-width:1500px;overflow:auto;\">\n",
        "<table border=\"1\" class=\"dataframe\">\n",
        "  <thead>\n",
        "    <tr style=\"text-align: right;\">\n",
        "      <th></th>\n",
        "      <th>age</th>\n",
        "      <th>work_class</th>\n",
        "      <th>education</th>\n",
        "      <th>education_num</th>\n",
        "      <th>marital_status</th>\n",
        "      <th>occupation</th>\n",
        "      <th>relationship</th>\n",
        "      <th>race</th>\n",
        "      <th>sex</th>\n",
        "      <th>hours_per_week</th>\n",
        "      <th>native_country</th>\n",
        "      <th>fifty_k</th>\n",
        "    </tr>\n",
        "  </thead>\n",
        "  <tbody>\n",
        "    <tr>\n",
        "      <th>0</th>\n",
        "      <td> 47</td>\n",
        "      <td> Private</td>\n",
        "      <td> 10th</td>\n",
        "      <td> 6</td>\n",
        "      <td> Divorced</td>\n",
        "      <td>   Exec-managerial</td>\n",
        "      <td> Not-in-family</td>\n",
        "      <td> Amer-Indian-Eskimo</td>\n",
        "      <td> Female</td>\n",
        "      <td> 45</td>\n",
        "      <td> United-States</td>\n",
        "      <td> &lt;=50K</td>\n",
        "    </tr>\n",
        "    <tr>\n",
        "      <th>1</th>\n",
        "      <td> 40</td>\n",
        "      <td> Private</td>\n",
        "      <td> 10th</td>\n",
        "      <td> 6</td>\n",
        "      <td> Divorced</td>\n",
        "      <td>      Craft-repair</td>\n",
        "      <td> Not-in-family</td>\n",
        "      <td> Amer-Indian-Eskimo</td>\n",
        "      <td>   Male</td>\n",
        "      <td> 40</td>\n",
        "      <td> United-States</td>\n",
        "      <td> &lt;=50K</td>\n",
        "    </tr>\n",
        "    <tr>\n",
        "      <th>2</th>\n",
        "      <td> 30</td>\n",
        "      <td> Private</td>\n",
        "      <td> 10th</td>\n",
        "      <td> 6</td>\n",
        "      <td> Divorced</td>\n",
        "      <td>     Other-service</td>\n",
        "      <td> Not-in-family</td>\n",
        "      <td> Amer-Indian-Eskimo</td>\n",
        "      <td>   Male</td>\n",
        "      <td> 40</td>\n",
        "      <td> United-States</td>\n",
        "      <td> &lt;=50K</td>\n",
        "    </tr>\n",
        "    <tr>\n",
        "      <th>3</th>\n",
        "      <td> 27</td>\n",
        "      <td> Private</td>\n",
        "      <td> 10th</td>\n",
        "      <td> 6</td>\n",
        "      <td> Divorced</td>\n",
        "      <td>  Transport-moving</td>\n",
        "      <td> Not-in-family</td>\n",
        "      <td> Amer-Indian-Eskimo</td>\n",
        "      <td>   Male</td>\n",
        "      <td> 75</td>\n",
        "      <td> United-States</td>\n",
        "      <td> &lt;=50K</td>\n",
        "    </tr>\n",
        "    <tr>\n",
        "      <th>4</th>\n",
        "      <td> 38</td>\n",
        "      <td> Private</td>\n",
        "      <td> 10th</td>\n",
        "      <td> 6</td>\n",
        "      <td> Divorced</td>\n",
        "      <td> Machine-op-inspct</td>\n",
        "      <td> Not-in-family</td>\n",
        "      <td> Asian-Pac-Islander</td>\n",
        "      <td> Female</td>\n",
        "      <td> 40</td>\n",
        "      <td>      Portugal</td>\n",
        "      <td> &lt;=50K</td>\n",
        "    </tr>\n",
        "  </tbody>\n",
        "</table>\n",
        "</div>"
       ],
       "metadata": {},
       "output_type": "pyout",
       "prompt_number": 2,
       "text": [
        "   age work_class education  education_num marital_status         occupation  \\\n",
        "0   47    Private      10th              6       Divorced    Exec-managerial   \n",
        "1   40    Private      10th              6       Divorced       Craft-repair   \n",
        "2   30    Private      10th              6       Divorced      Other-service   \n",
        "3   27    Private      10th              6       Divorced   Transport-moving   \n",
        "4   38    Private      10th              6       Divorced  Machine-op-inspct   \n",
        "\n",
        "    relationship                race     sex  hours_per_week native_country  \\\n",
        "0  Not-in-family  Amer-Indian-Eskimo  Female              45  United-States   \n",
        "1  Not-in-family  Amer-Indian-Eskimo    Male              40  United-States   \n",
        "2  Not-in-family  Amer-Indian-Eskimo    Male              40  United-States   \n",
        "3  Not-in-family  Amer-Indian-Eskimo    Male              75  United-States   \n",
        "4  Not-in-family  Asian-Pac-Islander  Female              40       Portugal   \n",
        "\n",
        "  fifty_k  \n",
        "0   <=50K  \n",
        "1   <=50K  \n",
        "2   <=50K  \n",
        "3   <=50K  \n",
        "4   <=50K  "
       ]
      }
     ],
     "prompt_number": 2
    },
    {
     "cell_type": "code",
     "collapsed": false,
     "input": [
      "# What are the column names?\n",
      "census.columns"
     ],
     "language": "python",
     "metadata": {},
     "outputs": [
      {
       "metadata": {},
       "output_type": "pyout",
       "prompt_number": 4,
       "text": [
        "Index([u'age', u'work_class', u'education', u'education_num', u'marital_status', u'occupation', u'relationship', u'race', u'sex', u'hours_per_week', u'native_country', u'fifty_k'], dtype='object')"
       ]
      }
     ],
     "prompt_number": 4
    },
    {
     "cell_type": "code",
     "collapsed": false,
     "input": [
      "# Sort the DataFrame by age and print out the last 5 lines\n",
      "census.sort(columns='age').tail(5)"
     ],
     "language": "python",
     "metadata": {},
     "outputs": [
      {
       "html": [
        "<div style=\"max-height:1000px;max-width:1500px;overflow:auto;\">\n",
        "<table border=\"1\" class=\"dataframe\">\n",
        "  <thead>\n",
        "    <tr style=\"text-align: right;\">\n",
        "      <th></th>\n",
        "      <th>age</th>\n",
        "      <th>work_class</th>\n",
        "      <th>education</th>\n",
        "      <th>education_num</th>\n",
        "      <th>marital_status</th>\n",
        "      <th>occupation</th>\n",
        "      <th>relationship</th>\n",
        "      <th>race</th>\n",
        "      <th>sex</th>\n",
        "      <th>hours_per_week</th>\n",
        "      <th>native_country</th>\n",
        "      <th>fifty_k</th>\n",
        "    </tr>\n",
        "  </thead>\n",
        "  <tbody>\n",
        "    <tr>\n",
        "      <th>27276</th>\n",
        "      <td> 90</td>\n",
        "      <td>   Private</td>\n",
        "      <td> Some-college</td>\n",
        "      <td> 10</td>\n",
        "      <td>      Never-married</td>\n",
        "      <td>     Other-service</td>\n",
        "      <td> Not-in-family</td>\n",
        "      <td> Asian-Pac-Islander</td>\n",
        "      <td>   Male</td>\n",
        "      <td> 35</td>\n",
        "      <td> United-States</td>\n",
        "      <td> &lt;=50K</td>\n",
        "    </tr>\n",
        "    <tr>\n",
        "      <th>1725 </th>\n",
        "      <td> 90</td>\n",
        "      <td>   Private</td>\n",
        "      <td>         11th</td>\n",
        "      <td>  7</td>\n",
        "      <td>      Never-married</td>\n",
        "      <td> Handlers-cleaners</td>\n",
        "      <td>     Own-child</td>\n",
        "      <td>              White</td>\n",
        "      <td>   Male</td>\n",
        "      <td> 40</td>\n",
        "      <td> United-States</td>\n",
        "      <td> &lt;=50K</td>\n",
        "    </tr>\n",
        "    <tr>\n",
        "      <th>3524 </th>\n",
        "      <td> 90</td>\n",
        "      <td>   Private</td>\n",
        "      <td>          9th</td>\n",
        "      <td>  5</td>\n",
        "      <td>      Never-married</td>\n",
        "      <td>      Adm-clerical</td>\n",
        "      <td> Not-in-family</td>\n",
        "      <td>              White</td>\n",
        "      <td> Female</td>\n",
        "      <td> 40</td>\n",
        "      <td> United-States</td>\n",
        "      <td> &lt;=50K</td>\n",
        "    </tr>\n",
        "    <tr>\n",
        "      <th>21269</th>\n",
        "      <td> 90</td>\n",
        "      <td>   Private</td>\n",
        "      <td>      HS-grad</td>\n",
        "      <td>  9</td>\n",
        "      <td>            Widowed</td>\n",
        "      <td>  Transport-moving</td>\n",
        "      <td>     Unmarried</td>\n",
        "      <td>              White</td>\n",
        "      <td>   Male</td>\n",
        "      <td> 99</td>\n",
        "      <td> United-States</td>\n",
        "      <td> &lt;=50K</td>\n",
        "    </tr>\n",
        "    <tr>\n",
        "      <th>2940 </th>\n",
        "      <td> 90</td>\n",
        "      <td> Local-gov</td>\n",
        "      <td>      7th-8th</td>\n",
        "      <td>  4</td>\n",
        "      <td> Married-civ-spouse</td>\n",
        "      <td>   Protective-serv</td>\n",
        "      <td>       Husband</td>\n",
        "      <td>              White</td>\n",
        "      <td>   Male</td>\n",
        "      <td> 40</td>\n",
        "      <td> United-States</td>\n",
        "      <td> &lt;=50K</td>\n",
        "    </tr>\n",
        "  </tbody>\n",
        "</table>\n",
        "</div>"
       ],
       "metadata": {},
       "output_type": "pyout",
       "prompt_number": 5,
       "text": [
        "       age work_class     education  education_num      marital_status  \\\n",
        "27276   90    Private  Some-college             10       Never-married   \n",
        "1725    90    Private          11th              7       Never-married   \n",
        "3524    90    Private           9th              5       Never-married   \n",
        "21269   90    Private       HS-grad              9             Widowed   \n",
        "2940    90  Local-gov       7th-8th              4  Married-civ-spouse   \n",
        "\n",
        "              occupation   relationship                race     sex  \\\n",
        "27276      Other-service  Not-in-family  Asian-Pac-Islander    Male   \n",
        "1725   Handlers-cleaners      Own-child               White    Male   \n",
        "3524        Adm-clerical  Not-in-family               White  Female   \n",
        "21269   Transport-moving      Unmarried               White    Male   \n",
        "2940     Protective-serv        Husband               White    Male   \n",
        "\n",
        "       hours_per_week native_country fifty_k  \n",
        "27276              35  United-States   <=50K  \n",
        "1725               40  United-States   <=50K  \n",
        "3524               40  United-States   <=50K  \n",
        "21269              99  United-States   <=50K  \n",
        "2940               40  United-States   <=50K  "
       ]
      }
     ],
     "prompt_number": 5
    },
    {
     "cell_type": "markdown",
     "metadata": {},
     "source": [
      "## Selecting columns and rows"
     ]
    },
    {
     "cell_type": "code",
     "collapsed": false,
     "input": [
      "# create a subset of the data with the columns education, occupation, hours_per_week. Look at the first 5 rows.\n",
      "census.loc[:,['education','occupation','hours_per_week']].head(5)"
     ],
     "language": "python",
     "metadata": {},
     "outputs": [
      {
       "html": [
        "<div style=\"max-height:1000px;max-width:1500px;overflow:auto;\">\n",
        "<table border=\"1\" class=\"dataframe\">\n",
        "  <thead>\n",
        "    <tr style=\"text-align: right;\">\n",
        "      <th></th>\n",
        "      <th>education</th>\n",
        "      <th>occupation</th>\n",
        "      <th>hours_per_week</th>\n",
        "    </tr>\n",
        "  </thead>\n",
        "  <tbody>\n",
        "    <tr>\n",
        "      <th>0</th>\n",
        "      <td> 10th</td>\n",
        "      <td>   Exec-managerial</td>\n",
        "      <td> 45</td>\n",
        "    </tr>\n",
        "    <tr>\n",
        "      <th>1</th>\n",
        "      <td> 10th</td>\n",
        "      <td>      Craft-repair</td>\n",
        "      <td> 40</td>\n",
        "    </tr>\n",
        "    <tr>\n",
        "      <th>2</th>\n",
        "      <td> 10th</td>\n",
        "      <td>     Other-service</td>\n",
        "      <td> 40</td>\n",
        "    </tr>\n",
        "    <tr>\n",
        "      <th>3</th>\n",
        "      <td> 10th</td>\n",
        "      <td>  Transport-moving</td>\n",
        "      <td> 75</td>\n",
        "    </tr>\n",
        "    <tr>\n",
        "      <th>4</th>\n",
        "      <td> 10th</td>\n",
        "      <td> Machine-op-inspct</td>\n",
        "      <td> 40</td>\n",
        "    </tr>\n",
        "  </tbody>\n",
        "</table>\n",
        "</div>"
       ],
       "metadata": {},
       "output_type": "pyout",
       "prompt_number": 16,
       "text": [
        "  education         occupation  hours_per_week\n",
        "0      10th    Exec-managerial              45\n",
        "1      10th       Craft-repair              40\n",
        "2      10th      Other-service              40\n",
        "3      10th   Transport-moving              75\n",
        "4      10th  Machine-op-inspct              40"
       ]
      }
     ],
     "prompt_number": 16
    },
    {
     "cell_type": "code",
     "collapsed": false,
     "input": [
      "# create a subset of the data with the middle 50 rows and the columns work_class and race. Look at the first 5 rows.\n",
      "census.loc[50:100,['work_class','race']].head()"
     ],
     "language": "python",
     "metadata": {},
     "outputs": [
      {
       "html": [
        "<div style=\"max-height:1000px;max-width:1500px;overflow:auto;\">\n",
        "<table border=\"1\" class=\"dataframe\">\n",
        "  <thead>\n",
        "    <tr style=\"text-align: right;\">\n",
        "      <th></th>\n",
        "      <th>work_class</th>\n",
        "      <th>race</th>\n",
        "    </tr>\n",
        "  </thead>\n",
        "  <tbody>\n",
        "    <tr>\n",
        "      <th>50</th>\n",
        "      <td>          Private</td>\n",
        "      <td> White</td>\n",
        "    </tr>\n",
        "    <tr>\n",
        "      <th>51</th>\n",
        "      <td>          Private</td>\n",
        "      <td> White</td>\n",
        "    </tr>\n",
        "    <tr>\n",
        "      <th>52</th>\n",
        "      <td> Self-emp-not-inc</td>\n",
        "      <td> White</td>\n",
        "    </tr>\n",
        "    <tr>\n",
        "      <th>53</th>\n",
        "      <td>          Private</td>\n",
        "      <td> White</td>\n",
        "    </tr>\n",
        "    <tr>\n",
        "      <th>54</th>\n",
        "      <td>          Private</td>\n",
        "      <td> White</td>\n",
        "    </tr>\n",
        "  </tbody>\n",
        "</table>\n",
        "</div>"
       ],
       "metadata": {},
       "output_type": "pyout",
       "prompt_number": 9,
       "text": [
        "          work_class   race\n",
        "50           Private  White\n",
        "51           Private  White\n",
        "52  Self-emp-not-inc  White\n",
        "53           Private  White\n",
        "54           Private  White"
       ]
      }
     ],
     "prompt_number": 9
    },
    {
     "cell_type": "code",
     "collapsed": false,
     "input": [
      "# create a subset of the data where education_num is greater than 8 and where sex is equal to female. Look at the first 5 rows\n"
     ],
     "language": "python",
     "metadata": {},
     "outputs": []
    },
    {
     "cell_type": "markdown",
     "metadata": {},
     "source": [
      "## groupby"
     ]
    },
    {
     "cell_type": "code",
     "collapsed": false,
     "input": [
      "# Group by work_class and output the group names (hint: add .keys() to the end of your line of code).\n",
      "census.groupby('work_class').mean()"
     ],
     "language": "python",
     "metadata": {},
     "outputs": [
      {
       "html": [
        "<div style=\"max-height:1000px;max-width:1500px;overflow:auto;\">\n",
        "<table border=\"1\" class=\"dataframe\">\n",
        "  <thead>\n",
        "    <tr style=\"text-align: right;\">\n",
        "      <th></th>\n",
        "      <th>age</th>\n",
        "      <th>education_num</th>\n",
        "      <th>hours_per_week</th>\n",
        "    </tr>\n",
        "    <tr>\n",
        "      <th>work_class</th>\n",
        "      <th></th>\n",
        "      <th></th>\n",
        "      <th></th>\n",
        "    </tr>\n",
        "  </thead>\n",
        "  <tbody>\n",
        "    <tr>\n",
        "      <th>Federal-gov</th>\n",
        "      <td> 42.577943</td>\n",
        "      <td> 10.948038</td>\n",
        "      <td> 41.279958</td>\n",
        "    </tr>\n",
        "    <tr>\n",
        "      <th>Local-gov</th>\n",
        "      <td> 41.743106</td>\n",
        "      <td> 11.036768</td>\n",
        "      <td> 41.002419</td>\n",
        "    </tr>\n",
        "    <tr>\n",
        "      <th>Private</th>\n",
        "      <td> 36.794355</td>\n",
        "      <td>  9.871085</td>\n",
        "      <td> 40.250875</td>\n",
        "    </tr>\n",
        "    <tr>\n",
        "      <th>Self-emp-inc</th>\n",
        "      <td> 46.027933</td>\n",
        "      <td> 11.167598</td>\n",
        "      <td> 48.802607</td>\n",
        "    </tr>\n",
        "    <tr>\n",
        "      <th>Self-emp-not-inc</th>\n",
        "      <td> 45.011605</td>\n",
        "      <td> 10.211285</td>\n",
        "      <td> 44.432173</td>\n",
        "    </tr>\n",
        "    <tr>\n",
        "      <th>State-gov</th>\n",
        "      <td> 39.362002</td>\n",
        "      <td> 11.349492</td>\n",
        "      <td> 39.053948</td>\n",
        "    </tr>\n",
        "    <tr>\n",
        "      <th>Without-pay</th>\n",
        "      <td> 47.785714</td>\n",
        "      <td>  9.071429</td>\n",
        "      <td> 32.714286</td>\n",
        "    </tr>\n",
        "  </tbody>\n",
        "</table>\n",
        "</div>"
       ],
       "metadata": {},
       "output_type": "pyout",
       "prompt_number": 10,
       "text": [
        "                        age  education_num  hours_per_week\n",
        "work_class                                                \n",
        "Federal-gov       42.577943      10.948038       41.279958\n",
        "Local-gov         41.743106      11.036768       41.002419\n",
        "Private           36.794355       9.871085       40.250875\n",
        "Self-emp-inc      46.027933      11.167598       48.802607\n",
        "Self-emp-not-inc  45.011605      10.211285       44.432173\n",
        "State-gov         39.362002      11.349492       39.053948\n",
        "Without-pay       47.785714       9.071429       32.714286"
       ]
      }
     ],
     "prompt_number": 10
    },
    {
     "cell_type": "code",
     "collapsed": false,
     "input": [
      "# Let's group by work_class and use the mean as the aggregate function\n",
      "\n"
     ],
     "language": "python",
     "metadata": {},
     "outputs": []
    },
    {
     "cell_type": "markdown",
     "metadata": {},
     "source": [
      "## Pivoting"
     ]
    },
    {
     "cell_type": "code",
     "collapsed": false,
     "input": [
      "# Let's pivot on education_num and sex, with hours_per_week as the values and mean as the aggfunc\n",
      "\n"
     ],
     "language": "python",
     "metadata": {},
     "outputs": []
    },
    {
     "cell_type": "code",
     "collapsed": false,
     "input": [
      "# Create a pivot table of your choosing, with any columns for rows and cols and a numerical columns for values.\n",
      "\n"
     ],
     "language": "python",
     "metadata": {},
     "outputs": []
    },
    {
     "cell_type": "markdown",
     "metadata": {},
     "source": [
      "## Let's do the following:\n",
      "\n",
      "For the machine learning section, can you extract a subset of the data where:\n",
      "\n",
      "- native_country equals United-States\n",
      "- hours_per_week is greater than 10\n",
      "- age is greater than 20 and less than 50\n",
      "- education is Masters\n",
      "\n",
      "It's going to be a bunch of booleans!"
     ]
    },
    {
     "cell_type": "code",
     "collapsed": false,
     "input": [
      "# Store that new dataframe in new_df and print out the first five rows.\n",
      "new_df = census[(census['native_country'] == 'United-States') & \n",
      "                (census['hours_per_week'] > 10) &\n",
      "                (census['age'] > 20) &\n",
      "                (census['age'] < 50) &\n",
      "                (census['education'] == 'Masters')]\n"
     ],
     "language": "python",
     "metadata": {},
     "outputs": [],
     "prompt_number": 18
    },
    {
     "cell_type": "code",
     "collapsed": false,
     "input": [
      "# Split the DataFrame so that all of the columns except the last one are in new_df_data, and the last one is in new_df_labels.\n",
      "\n",
      "new_df_data = new_df.iloc[:, :11]\n",
      "new_df_labels = new_df.iloc[:, -1]\n",
      "new_df_data\n",
      "new_df_data.shape"
     ],
     "language": "python",
     "metadata": {},
     "outputs": [
      {
       "metadata": {},
       "output_type": "pyout",
       "prompt_number": 20,
       "text": [
        "(1052, 11)"
       ]
      }
     ],
     "prompt_number": 20
    },
    {
     "cell_type": "markdown",
     "metadata": {},
     "source": [
      "# For those using IPython Notebook/Wakari/NBViewer: Go to the scikit_learn notebook!\n",
      "\n",
      "# For those using code files, go to scikit_learn_materials.py!\n",
      "\n",
      "End of Pandas section.\n",
      "\n",
      "# Lesson: let's classify our data!\n",
      "\n",
      "## Final preprocessing touches\n",
      "\n",
      "Scikit-learn estimators take in continuous data only, which means that we'll have to transform our categorical data into something the scikit-learn estimators can handle. This is actually much easier than it sounds! We're going to convert our dataframe into a dictionary, and then encode the data in that dictionary into arrays of 1s and 0s.\n",
      "\n",
      "Let's first transform the dataframe into a dictionary. We first have to transpose our DataFrame, so there is one row per nested dictionary. Finally, we'll put each item into a list, because scikit-learn's DictVectorizer object takes a list of dictionaries to encode. We also only need the values from our list of dictionaries."
     ]
    },
    {
     "cell_type": "code",
     "collapsed": false,
     "input": [
      "new_df_transpose = new_df_data.transpose()\n",
      "\n",
      "data_into_dict = new_df_transpose.to_dict()\n",
      "census_data = [v for k, v in data_into_dict.iteritems()]"
     ],
     "language": "python",
     "metadata": {},
     "outputs": [],
     "prompt_number": 21
    },
    {
     "cell_type": "markdown",
     "metadata": {},
     "source": [
      "Now, let's encode those features and instances."
     ]
    },
    {
     "cell_type": "code",
     "collapsed": false,
     "input": [
      "from sklearn.feature_extraction import DictVectorizer\n",
      "\n",
      "dv = DictVectorizer()\n",
      "transformed_data = dv.fit_transform(census_data).toarray()\n",
      "transformed_data"
     ],
     "language": "python",
     "metadata": {},
     "outputs": [
      {
       "metadata": {},
       "output_type": "pyout",
       "prompt_number": 22,
       "text": [
        "array([[ 27.,   1.,  14., ...,   0.,   0.,   0.],\n",
        "       [ 46.,   1.,  14., ...,   0.,   0.,   0.],\n",
        "       [ 44.,   1.,  14., ...,   0.,   0.,   0.],\n",
        "       ..., \n",
        "       [ 32.,   1.,  14., ...,   0.,   0.,   0.],\n",
        "       [ 43.,   1.,  14., ...,   0.,   1.,   0.],\n",
        "       [ 26.,   1.,  14., ...,   0.,   0.,   1.]])"
       ]
      }
     ],
     "prompt_number": 22
    },
    {
     "cell_type": "markdown",
     "metadata": {},
     "source": [
      "Now that we've done that, let's encode the labels."
     ]
    },
    {
     "cell_type": "code",
     "collapsed": false,
     "input": [
      "from sklearn.preprocessing import LabelEncoder\n",
      "\n",
      "le = LabelEncoder()\n",
      "transformed_labels = le.fit_transform(new_df_labels)"
     ],
     "language": "python",
     "metadata": {},
     "outputs": [],
     "prompt_number": 25
    },
    {
     "cell_type": "markdown",
     "metadata": {},
     "source": [
      "Now that we've done that, can you separate the transformed_data and transformed_labels into training and test sets?"
     ]
    },
    {
     "cell_type": "code",
     "collapsed": false,
     "input": [
      "from sklearn.cross_validation import train_test_split\n",
      "transformed_data_train,transformed_data_test,transformed_labels_train,transformed_labels_test = train_test_split(transformed_data,transformed_labels)"
     ],
     "language": "python",
     "metadata": {},
     "outputs": [],
     "prompt_number": 38
    },
    {
     "cell_type": "markdown",
     "metadata": {},
     "source": [
      "Let's fit and predict both kNN and Naive Bayes to this data."
     ]
    },
    {
     "cell_type": "code",
     "collapsed": false,
     "input": [
      "from sklearn.neighbors import KNeighborsClassifier\n",
      "from sklearn.naive_bayes import GaussianNB\n",
      "\n",
      "# fit both\n",
      "knn_census = KNeighborsClassifier()\n",
      "gnb_census = GaussianNB()\n",
      "knn_census.fit(transformed_data_train,transformed_labels_train)\n",
      "gnb_census.fit(transformed_data_train,transformed_labels_train)\n",
      "# predict\n",
      "knn_census.predict(transformed_data_test)[:10]\n",
      "\n",
      "\n",
      "# Outbpu kNN predictions on first 10 labels\n"
     ],
     "language": "python",
     "metadata": {},
     "outputs": [
      {
       "metadata": {},
       "output_type": "pyout",
       "prompt_number": 44,
       "text": [
        "array([0, 1, 0, 1, 1, 0, 0, 1, 1, 1])"
       ]
      }
     ],
     "prompt_number": 44
    },
    {
     "cell_type": "code",
     "collapsed": false,
     "input": [
      "# Output NB predictions on first 10 labels\n",
      "gnb_census.predict(transformed_data_test)[:10]\n"
     ],
     "language": "python",
     "metadata": {},
     "outputs": [
      {
       "metadata": {},
       "output_type": "pyout",
       "prompt_number": 45,
       "text": [
        "array([0, 0, 0, 0, 0, 0, 0, 0, 0, 0])"
       ]
      }
     ],
     "prompt_number": 45
    },
    {
     "cell_type": "markdown",
     "metadata": {},
     "source": [
      "Let's cross validate each, and then I'll show you something cool you can do."
     ]
    },
    {
     "cell_type": "code",
     "collapsed": false,
     "input": [
      "# Run cross-validation on kNN. Set cv=5\n",
      "from sklearn.cross_validation import cross_val_score\n",
      "cross_val_score(knn_census,transformed_data,transformed_labels,cv=5)\n"
     ],
     "language": "python",
     "metadata": {},
     "outputs": [
      {
       "metadata": {},
       "output_type": "pyout",
       "prompt_number": 46,
       "text": [
        "array([ 0.73459716,  0.66824645,  0.6952381 ,  0.69047619,  0.68095238])"
       ]
      }
     ],
     "prompt_number": 46
    },
    {
     "cell_type": "code",
     "collapsed": false,
     "input": [
      "# Run cross-validation on NB. Set cv=5\n",
      "cross_val_score(gnb_census,transformed_data,transformed_labels,cv=5)"
     ],
     "language": "python",
     "metadata": {},
     "outputs": [
      {
       "metadata": {},
       "output_type": "pyout",
       "prompt_number": 47,
       "text": [
        "array([ 0.51658768,  0.52132701,  0.52857143,  0.51904762,  0.51904762])"
       ]
      }
     ],
     "prompt_number": 47
    },
    {
     "cell_type": "markdown",
     "metadata": {},
     "source": [
      "# For those using IPython Notebook/Wakari/NBViewer: Go to the matplotlib notebook!\n",
      "\n",
      "# For those using code files, go to matplotlib_materials.py!\n",
      "\n",
      "End of scikit-learn section.\n",
      "\n",
      "# Lesson: what can plots tell us about our data and results?"
     ]
    },
    {
     "cell_type": "code",
     "collapsed": false,
     "input": [
      "# Let's look at the distribution of classes in our dataset. Can you get the value_counts of new_df_labels and make a bar chart?\n",
      "%pylab inline\n",
      "import matplotlib.pyplot as plt\n",
      "val_counts = new_df_labels.value_counts()\n",
      "plt.bar(val_counts.index, val_counts.values)"
     ],
     "language": "python",
     "metadata": {},
     "outputs": [
      {
       "output_type": "stream",
       "stream": "stdout",
       "text": [
        "Populating the interactive namespace from numpy and matplotlib\n"
       ]
      },
      {
       "output_type": "stream",
       "stream": "stderr",
       "text": [
        "WARNING: pylab import has clobbered these variables: ['f']\n",
        "`%matplotlib` prevents importing * from pylab and numpy\n"
       ]
      },
      {
       "ename": "TypeError",
       "evalue": "cannot concatenate 'str' and 'float' objects",
       "output_type": "pyerr",
       "traceback": [
        "\u001b[1;31m---------------------------------------------------------------------------\u001b[0m\n\u001b[1;31mTypeError\u001b[0m                                 Traceback (most recent call last)",
        "\u001b[1;32m<ipython-input-53-1c59289e6263>\u001b[0m in \u001b[0;36m<module>\u001b[1;34m()\u001b[0m\n\u001b[0;32m      3\u001b[0m \u001b[1;32mimport\u001b[0m \u001b[0mmatplotlib\u001b[0m\u001b[1;33m.\u001b[0m\u001b[0mpyplot\u001b[0m \u001b[1;32mas\u001b[0m \u001b[0mplt\u001b[0m\u001b[1;33m\u001b[0m\u001b[0m\n\u001b[0;32m      4\u001b[0m \u001b[0mval_counts\u001b[0m \u001b[1;33m=\u001b[0m \u001b[0mnew_df_labels\u001b[0m\u001b[1;33m.\u001b[0m\u001b[0mvalue_counts\u001b[0m\u001b[1;33m(\u001b[0m\u001b[1;33m)\u001b[0m\u001b[1;33m\u001b[0m\u001b[0m\n\u001b[1;32m----> 5\u001b[1;33m \u001b[0mplt\u001b[0m\u001b[1;33m.\u001b[0m\u001b[0mbar\u001b[0m\u001b[1;33m(\u001b[0m\u001b[0mval_counts\u001b[0m\u001b[1;33m.\u001b[0m\u001b[0mindex\u001b[0m\u001b[1;33m,\u001b[0m \u001b[0mval_counts\u001b[0m\u001b[1;33m.\u001b[0m\u001b[0mvalues\u001b[0m\u001b[1;33m)\u001b[0m\u001b[1;33m\u001b[0m\u001b[0m\n\u001b[0m",
        "\u001b[1;32m/home/ossek/anaconda/lib/python2.7/site-packages/matplotlib/pyplot.pyc\u001b[0m in \u001b[0;36mbar\u001b[1;34m(left, height, width, bottom, hold, **kwargs)\u001b[0m\n\u001b[0;32m   2513\u001b[0m         \u001b[0max\u001b[0m\u001b[1;33m.\u001b[0m\u001b[0mhold\u001b[0m\u001b[1;33m(\u001b[0m\u001b[0mhold\u001b[0m\u001b[1;33m)\u001b[0m\u001b[1;33m\u001b[0m\u001b[0m\n\u001b[0;32m   2514\u001b[0m     \u001b[1;32mtry\u001b[0m\u001b[1;33m:\u001b[0m\u001b[1;33m\u001b[0m\u001b[0m\n\u001b[1;32m-> 2515\u001b[1;33m         \u001b[0mret\u001b[0m \u001b[1;33m=\u001b[0m \u001b[0max\u001b[0m\u001b[1;33m.\u001b[0m\u001b[0mbar\u001b[0m\u001b[1;33m(\u001b[0m\u001b[0mleft\u001b[0m\u001b[1;33m,\u001b[0m \u001b[0mheight\u001b[0m\u001b[1;33m,\u001b[0m \u001b[0mwidth\u001b[0m\u001b[1;33m=\u001b[0m\u001b[0mwidth\u001b[0m\u001b[1;33m,\u001b[0m \u001b[0mbottom\u001b[0m\u001b[1;33m=\u001b[0m\u001b[0mbottom\u001b[0m\u001b[1;33m,\u001b[0m \u001b[1;33m**\u001b[0m\u001b[0mkwargs\u001b[0m\u001b[1;33m)\u001b[0m\u001b[1;33m\u001b[0m\u001b[0m\n\u001b[0m\u001b[0;32m   2516\u001b[0m         \u001b[0mdraw_if_interactive\u001b[0m\u001b[1;33m(\u001b[0m\u001b[1;33m)\u001b[0m\u001b[1;33m\u001b[0m\u001b[0m\n\u001b[0;32m   2517\u001b[0m     \u001b[1;32mfinally\u001b[0m\u001b[1;33m:\u001b[0m\u001b[1;33m\u001b[0m\u001b[0m\n",
        "\u001b[1;32m/home/ossek/anaconda/lib/python2.7/site-packages/matplotlib/axes.pyc\u001b[0m in \u001b[0;36mbar\u001b[1;34m(self, left, height, width, bottom, **kwargs)\u001b[0m\n\u001b[0;32m   5051\u001b[0m             \u001b[0mr\u001b[0m\u001b[1;33m.\u001b[0m\u001b[0mget_path\u001b[0m\u001b[1;33m(\u001b[0m\u001b[1;33m)\u001b[0m\u001b[1;33m.\u001b[0m\u001b[0m_interpolation_steps\u001b[0m \u001b[1;33m=\u001b[0m \u001b[1;36m100\u001b[0m\u001b[1;33m\u001b[0m\u001b[0m\n\u001b[0;32m   5052\u001b[0m             \u001b[1;31m#print r.get_label(), label, 'label' in kwargs\u001b[0m\u001b[1;33m\u001b[0m\u001b[1;33m\u001b[0m\u001b[0m\n\u001b[1;32m-> 5053\u001b[1;33m             \u001b[0mself\u001b[0m\u001b[1;33m.\u001b[0m\u001b[0madd_patch\u001b[0m\u001b[1;33m(\u001b[0m\u001b[0mr\u001b[0m\u001b[1;33m)\u001b[0m\u001b[1;33m\u001b[0m\u001b[0m\n\u001b[0m\u001b[0;32m   5054\u001b[0m             \u001b[0mpatches\u001b[0m\u001b[1;33m.\u001b[0m\u001b[0mappend\u001b[0m\u001b[1;33m(\u001b[0m\u001b[0mr\u001b[0m\u001b[1;33m)\u001b[0m\u001b[1;33m\u001b[0m\u001b[0m\n\u001b[0;32m   5055\u001b[0m \u001b[1;33m\u001b[0m\u001b[0m\n",
        "\u001b[1;32m/home/ossek/anaconda/lib/python2.7/site-packages/matplotlib/axes.pyc\u001b[0m in \u001b[0;36madd_patch\u001b[1;34m(self, p)\u001b[0m\n\u001b[0;32m   1560\u001b[0m         \u001b[1;32mif\u001b[0m \u001b[0mp\u001b[0m\u001b[1;33m.\u001b[0m\u001b[0mget_clip_path\u001b[0m\u001b[1;33m(\u001b[0m\u001b[1;33m)\u001b[0m \u001b[1;32mis\u001b[0m \u001b[0mNone\u001b[0m\u001b[1;33m:\u001b[0m\u001b[1;33m\u001b[0m\u001b[0m\n\u001b[0;32m   1561\u001b[0m             \u001b[0mp\u001b[0m\u001b[1;33m.\u001b[0m\u001b[0mset_clip_path\u001b[0m\u001b[1;33m(\u001b[0m\u001b[0mself\u001b[0m\u001b[1;33m.\u001b[0m\u001b[0mpatch\u001b[0m\u001b[1;33m)\u001b[0m\u001b[1;33m\u001b[0m\u001b[0m\n\u001b[1;32m-> 1562\u001b[1;33m         \u001b[0mself\u001b[0m\u001b[1;33m.\u001b[0m\u001b[0m_update_patch_limits\u001b[0m\u001b[1;33m(\u001b[0m\u001b[0mp\u001b[0m\u001b[1;33m)\u001b[0m\u001b[1;33m\u001b[0m\u001b[0m\n\u001b[0m\u001b[0;32m   1563\u001b[0m         \u001b[0mself\u001b[0m\u001b[1;33m.\u001b[0m\u001b[0mpatches\u001b[0m\u001b[1;33m.\u001b[0m\u001b[0mappend\u001b[0m\u001b[1;33m(\u001b[0m\u001b[0mp\u001b[0m\u001b[1;33m)\u001b[0m\u001b[1;33m\u001b[0m\u001b[0m\n\u001b[0;32m   1564\u001b[0m         \u001b[0mp\u001b[0m\u001b[1;33m.\u001b[0m\u001b[0m_remove_method\u001b[0m \u001b[1;33m=\u001b[0m \u001b[1;32mlambda\u001b[0m \u001b[0mh\u001b[0m\u001b[1;33m:\u001b[0m \u001b[0mself\u001b[0m\u001b[1;33m.\u001b[0m\u001b[0mpatches\u001b[0m\u001b[1;33m.\u001b[0m\u001b[0mremove\u001b[0m\u001b[1;33m(\u001b[0m\u001b[0mh\u001b[0m\u001b[1;33m)\u001b[0m\u001b[1;33m\u001b[0m\u001b[0m\n",
        "\u001b[1;32m/home/ossek/anaconda/lib/python2.7/site-packages/matplotlib/axes.pyc\u001b[0m in \u001b[0;36m_update_patch_limits\u001b[1;34m(self, patch)\u001b[0m\n\u001b[0;32m   1578\u001b[0m         \u001b[0mvertices\u001b[0m \u001b[1;33m=\u001b[0m \u001b[0mpatch\u001b[0m\u001b[1;33m.\u001b[0m\u001b[0mget_path\u001b[0m\u001b[1;33m(\u001b[0m\u001b[1;33m)\u001b[0m\u001b[1;33m.\u001b[0m\u001b[0mvertices\u001b[0m\u001b[1;33m\u001b[0m\u001b[0m\n\u001b[0;32m   1579\u001b[0m         \u001b[1;32mif\u001b[0m \u001b[0mvertices\u001b[0m\u001b[1;33m.\u001b[0m\u001b[0msize\u001b[0m \u001b[1;33m>\u001b[0m \u001b[1;36m0\u001b[0m\u001b[1;33m:\u001b[0m\u001b[1;33m\u001b[0m\u001b[0m\n\u001b[1;32m-> 1580\u001b[1;33m             \u001b[0mxys\u001b[0m \u001b[1;33m=\u001b[0m \u001b[0mpatch\u001b[0m\u001b[1;33m.\u001b[0m\u001b[0mget_patch_transform\u001b[0m\u001b[1;33m(\u001b[0m\u001b[1;33m)\u001b[0m\u001b[1;33m.\u001b[0m\u001b[0mtransform\u001b[0m\u001b[1;33m(\u001b[0m\u001b[0mvertices\u001b[0m\u001b[1;33m)\u001b[0m\u001b[1;33m\u001b[0m\u001b[0m\n\u001b[0m\u001b[0;32m   1581\u001b[0m             \u001b[1;32mif\u001b[0m \u001b[0mpatch\u001b[0m\u001b[1;33m.\u001b[0m\u001b[0mget_data_transform\u001b[0m\u001b[1;33m(\u001b[0m\u001b[1;33m)\u001b[0m \u001b[1;33m!=\u001b[0m \u001b[0mself\u001b[0m\u001b[1;33m.\u001b[0m\u001b[0mtransData\u001b[0m\u001b[1;33m:\u001b[0m\u001b[1;33m\u001b[0m\u001b[0m\n\u001b[0;32m   1582\u001b[0m                 patch_to_data = (patch.get_data_transform() -\n",
        "\u001b[1;32m/home/ossek/anaconda/lib/python2.7/site-packages/matplotlib/patches.pyc\u001b[0m in \u001b[0;36mget_patch_transform\u001b[1;34m(self)\u001b[0m\n\u001b[0;32m    574\u001b[0m \u001b[1;33m\u001b[0m\u001b[0m\n\u001b[0;32m    575\u001b[0m     \u001b[1;32mdef\u001b[0m \u001b[0mget_patch_transform\u001b[0m\u001b[1;33m(\u001b[0m\u001b[0mself\u001b[0m\u001b[1;33m)\u001b[0m\u001b[1;33m:\u001b[0m\u001b[1;33m\u001b[0m\u001b[0m\n\u001b[1;32m--> 576\u001b[1;33m         \u001b[0mself\u001b[0m\u001b[1;33m.\u001b[0m\u001b[0m_update_patch_transform\u001b[0m\u001b[1;33m(\u001b[0m\u001b[1;33m)\u001b[0m\u001b[1;33m\u001b[0m\u001b[0m\n\u001b[0m\u001b[0;32m    577\u001b[0m         \u001b[1;32mreturn\u001b[0m \u001b[0mself\u001b[0m\u001b[1;33m.\u001b[0m\u001b[0m_rect_transform\u001b[0m\u001b[1;33m\u001b[0m\u001b[0m\n\u001b[0;32m    578\u001b[0m \u001b[1;33m\u001b[0m\u001b[0m\n",
        "\u001b[1;32m/home/ossek/anaconda/lib/python2.7/site-packages/matplotlib/patches.pyc\u001b[0m in \u001b[0;36m_update_patch_transform\u001b[1;34m(self)\u001b[0m\n\u001b[0;32m    567\u001b[0m         \u001b[0mwidth\u001b[0m \u001b[1;33m=\u001b[0m \u001b[0mself\u001b[0m\u001b[1;33m.\u001b[0m\u001b[0mconvert_xunits\u001b[0m\u001b[1;33m(\u001b[0m\u001b[0mself\u001b[0m\u001b[1;33m.\u001b[0m\u001b[0m_width\u001b[0m\u001b[1;33m)\u001b[0m\u001b[1;33m\u001b[0m\u001b[0m\n\u001b[0;32m    568\u001b[0m         \u001b[0mheight\u001b[0m \u001b[1;33m=\u001b[0m \u001b[0mself\u001b[0m\u001b[1;33m.\u001b[0m\u001b[0mconvert_yunits\u001b[0m\u001b[1;33m(\u001b[0m\u001b[0mself\u001b[0m\u001b[1;33m.\u001b[0m\u001b[0m_height\u001b[0m\u001b[1;33m)\u001b[0m\u001b[1;33m\u001b[0m\u001b[0m\n\u001b[1;32m--> 569\u001b[1;33m         \u001b[0mbbox\u001b[0m \u001b[1;33m=\u001b[0m \u001b[0mtransforms\u001b[0m\u001b[1;33m.\u001b[0m\u001b[0mBbox\u001b[0m\u001b[1;33m.\u001b[0m\u001b[0mfrom_bounds\u001b[0m\u001b[1;33m(\u001b[0m\u001b[0mx\u001b[0m\u001b[1;33m,\u001b[0m \u001b[0my\u001b[0m\u001b[1;33m,\u001b[0m \u001b[0mwidth\u001b[0m\u001b[1;33m,\u001b[0m \u001b[0mheight\u001b[0m\u001b[1;33m)\u001b[0m\u001b[1;33m\u001b[0m\u001b[0m\n\u001b[0m\u001b[0;32m    570\u001b[0m         \u001b[0mrot_trans\u001b[0m \u001b[1;33m=\u001b[0m \u001b[0mtransforms\u001b[0m\u001b[1;33m.\u001b[0m\u001b[0mAffine2D\u001b[0m\u001b[1;33m(\u001b[0m\u001b[1;33m)\u001b[0m\u001b[1;33m\u001b[0m\u001b[0m\n\u001b[0;32m    571\u001b[0m         \u001b[0mrot_trans\u001b[0m\u001b[1;33m.\u001b[0m\u001b[0mrotate_deg_around\u001b[0m\u001b[1;33m(\u001b[0m\u001b[0mx\u001b[0m\u001b[1;33m,\u001b[0m \u001b[0my\u001b[0m\u001b[1;33m,\u001b[0m \u001b[0mself\u001b[0m\u001b[1;33m.\u001b[0m\u001b[0m_angle\u001b[0m\u001b[1;33m)\u001b[0m\u001b[1;33m\u001b[0m\u001b[0m\n",
        "\u001b[1;32m/home/ossek/anaconda/lib/python2.7/site-packages/matplotlib/transforms.pyc\u001b[0m in \u001b[0;36mfrom_bounds\u001b[1;34m(x0, y0, width, height)\u001b[0m\n\u001b[0;32m    819\u001b[0m         \u001b[1;33m*\u001b[0m\u001b[0mwidth\u001b[0m\u001b[1;33m*\u001b[0m \u001b[1;32mand\u001b[0m \u001b[1;33m*\u001b[0m\u001b[0mheight\u001b[0m\u001b[1;33m*\u001b[0m \u001b[0mmay\u001b[0m \u001b[0mbe\u001b[0m \u001b[0mnegative\u001b[0m\u001b[1;33m.\u001b[0m\u001b[1;33m\u001b[0m\u001b[0m\n\u001b[0;32m    820\u001b[0m         \"\"\"\n\u001b[1;32m--> 821\u001b[1;33m         \u001b[1;32mreturn\u001b[0m \u001b[0mBbox\u001b[0m\u001b[1;33m.\u001b[0m\u001b[0mfrom_extents\u001b[0m\u001b[1;33m(\u001b[0m\u001b[0mx0\u001b[0m\u001b[1;33m,\u001b[0m \u001b[0my0\u001b[0m\u001b[1;33m,\u001b[0m \u001b[0mx0\u001b[0m \u001b[1;33m+\u001b[0m \u001b[0mwidth\u001b[0m\u001b[1;33m,\u001b[0m \u001b[0my0\u001b[0m \u001b[1;33m+\u001b[0m \u001b[0mheight\u001b[0m\u001b[1;33m)\u001b[0m\u001b[1;33m\u001b[0m\u001b[0m\n\u001b[0m\u001b[0;32m    822\u001b[0m \u001b[1;33m\u001b[0m\u001b[0m\n\u001b[0;32m    823\u001b[0m     \u001b[1;33m@\u001b[0m\u001b[0mstaticmethod\u001b[0m\u001b[1;33m\u001b[0m\u001b[0m\n",
        "\u001b[1;31mTypeError\u001b[0m: cannot concatenate 'str' and 'float' objects"
       ]
      },
      {
       "metadata": {},
       "output_type": "display_data",
       "png": "[encoded data removed]",
       "text": [
        "<matplotlib.figure.Figure at 0x7f1995e5e510>"
       ]
      }
     ],
     "prompt_number": 53
    },
    {
     "cell_type": "code",
     "collapsed": false,
     "input": [
      "# Now, can you make a bar chat comparing the predicted kNN labels to the actual labels? You can use the first 10 only if you want.\n"
     ],
     "language": "python",
     "metadata": {},
     "outputs": []
    },
    {
     "cell_type": "code",
     "collapsed": false,
     "input": [
      "# What other visualizations would be helpful? Can you come up with a few more?\n",
      "\n"
     ],
     "language": "python",
     "metadata": {},
     "outputs": []
    }
   ],
   "metadata": {}
  }
 ]
}